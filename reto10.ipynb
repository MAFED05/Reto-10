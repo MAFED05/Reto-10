{
 "cells": [
  {
   "cell_type": "code",
   "execution_count": 2,
   "metadata": {},
   "outputs": [
    {
     "name": "stdout",
     "output_type": "stream",
     "text": [
      "El promedio : 37.25\n"
     ]
    }
   ],
   "source": [
    "def promedio(lista): # Se define la funcion para hallar el promedio que recibe como argumento la lista\n",
    "    Suma = 0\n",
    "\n",
    "    for elemento in lista: # Se itera sobre cada elemento que se agregue a la lista y se va sumando\n",
    "        Suma += elemento\n",
    "    promedio = Suma / len(lista) # Se calcula el promedio dividiendo la suma por la cantidad de elementos en la lista\n",
    "    return promedio # Se retorna el resultado del promedio\n",
    "\n",
    "\n",
    "\n",
    "if __name__ == \"__main__\":\n",
    "    lista = [] # Se crea una lista vacia\n",
    "    X = int(input(\"Ingrese el tamaño de la lista: \")) # Se solicita la cantidad de elementos de la lista\n",
    "    for i in range(X):  #Se itera desde cero hasta el tamaño de la lista ingresado por el usuario para ir agregando valores .\n",
    "        i = float(input(\"Valores de la lista : \")) # Se solicita cada valor de la lista \n",
    "        lista.append(i) # Se agrega cada valor a la lista\n",
    "    promedio_lista = promedio(lista) # Se llama a la función promedio\n",
    "    print(\"El promedio de los números ingresados es: \" + str(promedio_lista)) # Se imprime el promedio de la lista"
   ]
  },
  {
   "cell_type": "code",
   "execution_count": 7,
   "metadata": {},
   "outputs": [
    {
     "name": "stdout",
     "output_type": "stream",
     "text": [
      "El producto punto de las listas es: 6824\n"
     ]
    }
   ],
   "source": [
    "def productoPunto(listaA:list,listaB:list)->int: #Se declara la función \n",
    "    x = 0\n",
    "    for i in range(len(listaA)): # i va a tomar los valores del 0 a la longitud de la lista\n",
    "        x += listaA[i]*listaB[i] #Se multiplica los mismos indices de ambas listas y se guardan en X\n",
    "    return x #Devuelve X\n",
    "\n",
    "if __name__==\"__main__\":\n",
    "    num = int(input(\"Ingrese la cantidad de números que quiere ingresar a las listas: \")) #Cantidad de números en las listas\n",
    "    #Listas vacias\n",
    "    listaA = [] \n",
    "    listaB = []\n",
    "    #Se pregunta según en indice que número quiere que este en la lista\n",
    "    for i in range(num):\n",
    "        f = int(input(\"Ingrese el indice \"+str(i)+\" de la primera lista: \")) \n",
    "        listaA.append(f)\n",
    "    for n in range(num):\n",
    "        x = int(input(\"Ingrese el indice \"+str(n)+\" de la segunda lista: \"))\n",
    "        listaB.append(x)\n",
    "print(\"El producto punto de las listas es:\", productoPunto(listaA, listaB))#Se llama la función y se le ponen las listas"
   ]
  },
  {
   "cell_type": "code",
   "execution_count": 15,
   "metadata": {},
   "outputs": [
    {
     "name": "stdout",
     "output_type": "stream",
     "text": [
      "[0, 24, 10, 0, 20, 52, 84, 74, 84, 54]\n",
      "su lista con todos los ceros al final se ve asi:  [24, 10, 20, 52, 84, 74, 84, 54, 0, 0]\n"
     ]
    }
   ],
   "source": [
    "lista1 = [] #Se define una lista vacía\n",
    "num = int(input(\"ingrese la cantidad de elementos que tendrá su lista: \")) # preguntamos la longitud de la lista\n",
    "for i in range(num): # Se itera el proceso la cantidad de veces dicha por el usuario\n",
    "    real = int(input(\"ingrese los números reales para su lista: \")) #Solicitamos al usuario los elementos de la liista\n",
    "    lista1.append(real) # Añadimos los elementos a la lista vacia\n",
    "print(lista1) #imprimimos la lista\n",
    "\n",
    "ceros = lista1.count(0) # definimos'ceros' como el conteo de '0' presentes en la lista\n",
    "for j in range(ceros): # Hacemos el siguiente proceso para cada '0' de la lista\n",
    "    lista1.remove(0) # eliminamos los '0' de la lista\n",
    "\n",
    "for m in range(ceros): # Hacemos el siguiente proceso para cada '0' que estaba en la lista\n",
    "    lista1.append(0) #Añadimos los '0' que habian al final de la lista\n",
    "\n",
    "print('su lista con todos los ceros al final se ve asi: ',lista1) #Imprimimos la lista"
   ]
  }
 ],
 "metadata": {
  "kernelspec": {
   "display_name": "Python 3",
   "language": "python",
   "name": "python3"
  },
  "language_info": {
   "codemirror_mode": {
    "name": "ipython",
    "version": 3
   },
   "file_extension": ".py",
   "mimetype": "text/x-python",
   "name": "python",
   "nbconvert_exporter": "python",
   "pygments_lexer": "ipython3",
   "version": "3.10.11"
  },
  "orig_nbformat": 4
 },
 "nbformat": 4,
 "nbformat_minor": 2
}
